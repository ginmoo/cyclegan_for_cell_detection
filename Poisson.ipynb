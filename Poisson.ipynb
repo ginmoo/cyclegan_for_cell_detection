{
 "cells": [
  {
   "cell_type": "code",
   "execution_count": null,
   "metadata": {},
   "outputs": [],
   "source": [
    "import cv2\n",
    "import numpy as np\n",
    "import os\n",
    "\n",
    "\n",
    "im= cv2.imread(\"background/1.jpg\")\n",
    "width, height, channels = im.shape\n",
    "center = (int(height/2), int(width/2))\n",
    "\n",
    "dataset_dir='PatchImage/'\n",
    "\n",
    "for parent, dirnames, filenames in os.walk(dataset_dir):\n",
    "    for filename in filenames:\n",
    "        if filename.lower().endswith(('.bmp', '.dib', '.png', '.jpg', '.jpeg', '.pbm', '.pgm', '.ppm', '.tif', '.tiff')):\n",
    "            patch = os.path.join(parent, filename)\n",
    "            obj= cv2.imread(patch)\n",
    "            ret,mask=cv2.threshold(obj,0,255,cv2.THRESH_BINARY)\n",
    "            normal_clone = cv2.seamlessClone(obj, im, mask, center, cv2.NORMAL_CLONE)\n",
    "            cv2.imwrite(\"gen_img/\"+filename,normal_clone,[int(cv2.IMWRITE_JPEG_QUALITY),100])"
   ]
  },
  {
   "cell_type": "code",
   "execution_count": null,
   "metadata": {},
   "outputs": [],
   "source": []
  }
 ],
 "metadata": {
  "kernelspec": {
   "display_name": "Python 3",
   "language": "python",
   "name": "python3"
  },
  "language_info": {
   "codemirror_mode": {
    "name": "ipython",
    "version": 3
   },
   "file_extension": ".py",
   "mimetype": "text/x-python",
   "name": "python",
   "nbconvert_exporter": "python",
   "pygments_lexer": "ipython3",
   "version": "3.6.8"
  }
 },
 "nbformat": 4,
 "nbformat_minor": 2
}
